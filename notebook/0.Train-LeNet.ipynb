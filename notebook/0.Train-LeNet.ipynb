{
 "cells": [
  {
   "cell_type": "markdown",
   "metadata": {},
   "source": [
    "# Load LeNet Model\n",
    "- some famous models have already been distributed together with the package\n",
    "- we provide some tools to look into the models"
   ]
  },
  {
   "cell_type": "code",
   "execution_count": 1,
   "metadata": {
    "collapsed": false
   },
   "outputs": [
    {
     "name": "stdout",
     "output_type": "stream",
     "text": [
      "Populating the interactive namespace from numpy and matplotlib\n"
     ]
    }
   ],
   "source": [
    "%pylab inline\n",
    "from tfs.models import LeNet\n",
    "net = LeNet()"
   ]
  },
  {
   "cell_type": "markdown",
   "metadata": {},
   "source": [
    "# Build the network\n",
    "- before we use the network object, we need to `build()` it first. \n",
    "- by default, any network object only contains definitions about the network.  we need to call build() function to construct the computational graph."
   ]
  },
  {
   "cell_type": "code",
   "execution_count": 2,
   "metadata": {
    "collapsed": false,
    "scrolled": true
   },
   "outputs": [
    {
     "name": "stdout",
     "output_type": "stream",
     "text": [
      "Tensor(\"prob:0\", shape=(?, 10), dtype=float32)\n"
     ]
    }
   ],
   "source": [
    "netout = net.build()\n",
    "print netout"
   ]
  },
  {
   "cell_type": "markdown",
   "metadata": {},
   "source": [
    "# Explore the network object"
   ]
  },
  {
   "cell_type": "markdown",
   "metadata": {},
   "source": [
    "- we can see the network structure easily"
   ]
  },
  {
   "cell_type": "code",
   "execution_count": 3,
   "metadata": {
    "collapsed": false
   },
   "outputs": [
    {
     "name": "stdout",
     "output_type": "stream",
     "text": [
      "Name:conv1     \tType:Conv2d(knum=20,ksize=[5, 5],strides=[1, 1],padding=VALID,activation=None)\n",
      "Name:pool1     \tType:MaxPool(ksize=[2, 2],strides=[2, 2])\n",
      "Name:conv2     \tType:Conv2d(knum=50,ksize=[5, 5],strides=[1, 1],padding=VALID,activation=relu)\n",
      "Name:pool2     \tType:MaxPool(ksize=[2, 2],strides=[2, 2])\n",
      "Name:ip1       \tType:FullyConnect(outdim=500,activation=relu)\n",
      "Name:ip2       \tType:FullyConnect(outdim=10,activation=None)\n",
      "Name:prob      \tType:Softmax()\n"
     ]
    }
   ],
   "source": [
    "print net"
   ]
  },
  {
   "cell_type": "code",
   "execution_count": 4,
   "metadata": {
    "collapsed": false
   },
   "outputs": [
    {
     "name": "stdout",
     "output_type": "stream",
     "text": [
      "conv1                       (?, 28, 28, 1) -> (?, 24, 24, 20)     \n",
      "pool1                      (?, 24, 24, 20) -> (?, 12, 12, 20)     \n",
      "conv2                      (?, 12, 12, 20) -> (?, 8, 8, 50)       \n",
      "pool2                        (?, 8, 8, 50) -> (?, 4, 4, 50)       \n",
      "ip1                          (?, 4, 4, 50) -> (?, 500)            \n",
      "ip2                               (?, 500) -> (?, 10)             \n",
      "prob                               (?, 10) -> (?, 10)             \n",
      "None\n"
     ]
    }
   ],
   "source": [
    "print net.print_shape()"
   ]
  },
  {
   "cell_type": "markdown",
   "metadata": {},
   "source": [
    "- each network object also has the following components binding with it:\n",
    "  - initializer\n",
    "  - loss\n",
    "  - optimizer"
   ]
  },
  {
   "cell_type": "code",
   "execution_count": 5,
   "metadata": {
    "collapsed": false
   },
   "outputs": [
    {
     "name": "stdout",
     "output_type": "stream",
     "text": [
      "DefaultInitializer\n",
      "-----param-----\n",
      "print_names=[]\n",
      "-----nodes-----\n",
      "conv1\n",
      "    conv1/weights:0     xavier(seed=None,uniform=True,mode=FAN_AVG,factor=1.0)\n",
      "    conv1/biases:0      constant(val=0.1)\n",
      "pool1\n",
      "conv2\n",
      "    conv2/biases:0      constant(val=0.1)\n",
      "    conv2/weights:0     xavier(seed=None,uniform=True,mode=FAN_AVG,factor=1.0)\n",
      "pool2\n",
      "ip1\n",
      "    ip1/weights:0       xavier(seed=None,uniform=True,mode=FAN_AVG,factor=1.0)\n",
      "    ip1/biases:0        constant(val=0.1)\n",
      "ip2\n",
      "    ip2/biases:0        constant(val=0.1)\n",
      "    ip2/weights:0       xavier(seed=None,uniform=True,mode=FAN_AVG,factor=1.0)\n",
      "prob\n"
     ]
    }
   ],
   "source": [
    "print net.initializer"
   ]
  },
  {
   "cell_type": "code",
   "execution_count": 6,
   "metadata": {
    "collapsed": false
   },
   "outputs": [
    {
     "name": "stdout",
     "output_type": "stream",
     "text": [
      "CrossEntropyByLogitLabel (ip2)\n",
      "-----param-----\n",
      "----------------\n"
     ]
    }
   ],
   "source": [
    "print net.losser"
   ]
  },
  {
   "cell_type": "code",
   "execution_count": 7,
   "metadata": {
    "collapsed": false
   },
   "outputs": [
    {
     "name": "stdout",
     "output_type": "stream",
     "text": [
      "AdamOptimizer\n",
      "-----param-----\n",
      "learning_rate=0.001,print_names=['learning_rate']\n",
      "---------------\n"
     ]
    }
   ],
   "source": [
    "print net.optimizer"
   ]
  },
  {
   "cell_type": "markdown",
   "metadata": {},
   "source": [
    "# Load and explore the data\n",
    "- after we have construct the model, what we need to do next is to load data.\n",
    "- our package has provided some frequently used dataset, such as Mnist, and Cifar10"
   ]
  },
  {
   "cell_type": "code",
   "execution_count": 8,
   "metadata": {
    "collapsed": true
   },
   "outputs": [],
   "source": [
    "from tfs.dataset import Mnist\n",
    "dataset = Mnist()"
   ]
  },
  {
   "cell_type": "markdown",
   "metadata": {},
   "source": [
    "- we can explore the image inside the mnist dataset"
   ]
  },
  {
   "cell_type": "code",
   "execution_count": 9,
   "metadata": {
    "collapsed": false
   },
   "outputs": [
    {
     "name": "stdout",
     "output_type": "stream",
     "text": [
      "index: 15267 \tlabel: 8\n"
     ]
    },
    {
     "data": {
      "image/png": "[encoded data removed]",
      "text/plain": [
       "<matplotlib.figure.Figure at 0x1160f4b50>"
      ]
     },
     "metadata": {},
     "output_type": "display_data"
    }
   ],
   "source": [
    "import numpy as np\n",
    "idx = np.random.randint(0,60000) # we have 60000 images in the training dataset\n",
    "img = dataset.train.data[idx,:,:,0]\n",
    "lbl = dataset.train.labels[idx]\n",
    "imshow(img,cmap='gray')\n",
    "print 'index:',idx,'\\t','label:',lbl"
   ]
  },
  {
   "cell_type": "markdown",
   "metadata": {},
   "source": [
    "# Train the network\n",
    "- It's very easy to train a network, just use `fit` function, which is a bit like `sklearn`\n",
    "- If you want to record some information during training, you can define a monitor, and plug it onto the network\n",
    "- The default monitor would only print some information every 10 steps."
   ]
  },
  {
   "cell_type": "code",
   "execution_count": 10,
   "metadata": {
    "collapsed": false
   },
   "outputs": [
    {
     "data": {
      "text/plain": [
       "{'default': DefaultMonitor(net,interval=10)}"
      ]
     },
     "execution_count": 10,
     "metadata": {},
     "output_type": "execute_result"
    }
   ],
   "source": [
    "net.monitor"
   ]
  },
  {
   "cell_type": "markdown",
   "metadata": {},
   "source": [
    "- now we change the print step to 20, and add a monitor that record the variance of each layer's input and output."
   ]
  },
  {
   "cell_type": "code",
   "execution_count": 11,
   "metadata": {
    "collapsed": false
   },
   "outputs": [],
   "source": [
    "from tfs.core.monitor import *\n",
    "net.monitor['default'].interval=20\n",
    "net.monitor['var'] = LayerInputVarMonitor(net,interval=10)"
   ]
  },
  {
   "cell_type": "code",
   "execution_count": 12,
   "metadata": {
    "collapsed": false,
    "scrolled": false
   },
   "outputs": [
    {
     "name": "stdout",
     "output_type": "stream",
     "text": [
      "step 20. loss 1.098543, score:0.658100\n",
      "step 40. loss 0.531730, score:0.871900\n",
      "step 60. loss 0.219297, score:0.908900\n",
      "step 80. loss 0.342844, score:0.932400\n",
      "step 100. loss 0.135898, score:0.937200\n",
      "step 120. loss 0.117133, score:0.946900\n",
      "step 140. loss 0.105653, score:0.950800\n",
      "step 160. loss 0.132236, score:0.960400\n",
      "step 180. loss 0.120563, score:0.960900\n",
      "step 200. loss 0.098443, score:0.964700\n",
      "step 220. loss 0.114411, score:0.962100\n",
      "step 240. loss 0.137687, score:0.967600\n",
      "step 260. loss 0.098422, score:0.959500\n",
      "step 280. loss 0.081980, score:0.963300\n",
      "step 300. loss 0.155365, score:0.967500\n"
     ]
    },
    {
     "data": {
      "text/plain": [
       "<tfs.models.lenet.LeNet at 0x1056b4c50>"
      ]
     },
     "execution_count": 12,
     "metadata": {},
     "output_type": "execute_result"
    }
   ],
   "source": [
    "net.fit(dataset,batch_size=200,n_epoch=1)"
   ]
  },
  {
   "cell_type": "code",
   "execution_count": 13,
   "metadata": {
    "collapsed": true
   },
   "outputs": [],
   "source": [
    "var_result = net.monitor['var'].results"
   ]
  },
  {
   "cell_type": "code",
   "execution_count": 14,
   "metadata": {
    "collapsed": false,
    "scrolled": false
   },
   "outputs": [],
   "source": [
    "import pandas as pd\n",
    "var = pd.DataFrame(var_result,columns=[n.name for n in net.nodes])"
   ]
  },
  {
   "cell_type": "code",
   "execution_count": 15,
   "metadata": {
    "collapsed": false
   },
   "outputs": [
    {
     "data": {
      "text/html": [
       "<div>\n",
       "<table border=\"1\" class=\"dataframe\">\n",
       "  <thead>\n",
       "    <tr style=\"text-align: right;\">\n",
       "      <th></th>\n",
       "      <th>conv1</th>\n",
       "      <th>pool1</th>\n",
       "      <th>conv2</th>\n",
       "      <th>pool2</th>\n",
       "      <th>ip1</th>\n",
       "      <th>ip2</th>\n",
       "      <th>prob</th>\n",
       "    </tr>\n",
       "  </thead>\n",
       "  <tbody>\n",
       "    <tr>\n",
       "      <th>0</th>\n",
       "      <td>6425.205566</td>\n",
       "      <td>527.632751</td>\n",
       "      <td>497.298126</td>\n",
       "      <td>7.225351</td>\n",
       "      <td>20.448353</td>\n",
       "      <td>9.782156</td>\n",
       "      <td>44.238594</td>\n",
       "    </tr>\n",
       "    <tr>\n",
       "      <th>1</th>\n",
       "      <td>5865.723145</td>\n",
       "      <td>500.731506</td>\n",
       "      <td>483.666107</td>\n",
       "      <td>1.052093</td>\n",
       "      <td>3.352211</td>\n",
       "      <td>1.436034</td>\n",
       "      <td>4.778584</td>\n",
       "    </tr>\n",
       "    <tr>\n",
       "      <th>2</th>\n",
       "      <td>6403.899414</td>\n",
       "      <td>534.200623</td>\n",
       "      <td>511.890228</td>\n",
       "      <td>1.459395</td>\n",
       "      <td>4.514973</td>\n",
       "      <td>2.017583</td>\n",
       "      <td>8.937464</td>\n",
       "    </tr>\n",
       "    <tr>\n",
       "      <th>3</th>\n",
       "      <td>6754.935547</td>\n",
       "      <td>576.536499</td>\n",
       "      <td>549.973694</td>\n",
       "      <td>3.419768</td>\n",
       "      <td>10.018423</td>\n",
       "      <td>4.530115</td>\n",
       "      <td>26.683338</td>\n",
       "    </tr>\n",
       "    <tr>\n",
       "      <th>4</th>\n",
       "      <td>5987.695312</td>\n",
       "      <td>517.822144</td>\n",
       "      <td>493.349670</td>\n",
       "      <td>2.546921</td>\n",
       "      <td>7.526064</td>\n",
       "      <td>3.493712</td>\n",
       "      <td>23.610308</td>\n",
       "    </tr>\n",
       "    <tr>\n",
       "      <th>5</th>\n",
       "      <td>6173.811523</td>\n",
       "      <td>515.226868</td>\n",
       "      <td>491.419403</td>\n",
       "      <td>3.003618</td>\n",
       "      <td>8.732905</td>\n",
       "      <td>4.038671</td>\n",
       "      <td>21.889585</td>\n",
       "    </tr>\n",
       "    <tr>\n",
       "      <th>6</th>\n",
       "      <td>5914.882324</td>\n",
       "      <td>501.554108</td>\n",
       "      <td>479.464783</td>\n",
       "      <td>2.791000</td>\n",
       "      <td>8.282437</td>\n",
       "      <td>3.838466</td>\n",
       "      <td>23.294497</td>\n",
       "    </tr>\n",
       "    <tr>\n",
       "      <th>7</th>\n",
       "      <td>6053.884766</td>\n",
       "      <td>501.749115</td>\n",
       "      <td>478.366608</td>\n",
       "      <td>3.590404</td>\n",
       "      <td>10.314008</td>\n",
       "      <td>4.875860</td>\n",
       "      <td>31.559923</td>\n",
       "    </tr>\n",
       "    <tr>\n",
       "      <th>8</th>\n",
       "      <td>5786.568359</td>\n",
       "      <td>482.805786</td>\n",
       "      <td>458.693237</td>\n",
       "      <td>3.056173</td>\n",
       "      <td>8.839657</td>\n",
       "      <td>4.102325</td>\n",
       "      <td>26.738495</td>\n",
       "    </tr>\n",
       "    <tr>\n",
       "      <th>9</th>\n",
       "      <td>6716.635742</td>\n",
       "      <td>570.340820</td>\n",
       "      <td>542.512756</td>\n",
       "      <td>3.370234</td>\n",
       "      <td>9.593591</td>\n",
       "      <td>4.488956</td>\n",
       "      <td>30.924175</td>\n",
       "    </tr>\n",
       "    <tr>\n",
       "      <th>10</th>\n",
       "      <td>7205.064453</td>\n",
       "      <td>594.001404</td>\n",
       "      <td>564.621399</td>\n",
       "      <td>3.485594</td>\n",
       "      <td>10.084619</td>\n",
       "      <td>4.754122</td>\n",
       "      <td>33.337494</td>\n",
       "    </tr>\n",
       "    <tr>\n",
       "      <th>11</th>\n",
       "      <td>6172.778809</td>\n",
       "      <td>514.428772</td>\n",
       "      <td>487.406219</td>\n",
       "      <td>4.400505</td>\n",
       "      <td>12.624302</td>\n",
       "      <td>5.973035</td>\n",
       "      <td>39.545395</td>\n",
       "    </tr>\n",
       "    <tr>\n",
       "      <th>12</th>\n",
       "      <td>5311.030273</td>\n",
       "      <td>453.564911</td>\n",
       "      <td>429.417450</td>\n",
       "      <td>4.352831</td>\n",
       "      <td>12.224677</td>\n",
       "      <td>5.846443</td>\n",
       "      <td>38.543915</td>\n",
       "    </tr>\n",
       "    <tr>\n",
       "      <th>13</th>\n",
       "      <td>6281.346191</td>\n",
       "      <td>518.325500</td>\n",
       "      <td>491.203491</td>\n",
       "      <td>4.091133</td>\n",
       "      <td>11.690635</td>\n",
       "      <td>5.474343</td>\n",
       "      <td>37.004749</td>\n",
       "    </tr>\n",
       "    <tr>\n",
       "      <th>14</th>\n",
       "      <td>5253.129883</td>\n",
       "      <td>433.303314</td>\n",
       "      <td>413.673920</td>\n",
       "      <td>3.819614</td>\n",
       "      <td>10.972702</td>\n",
       "      <td>5.210629</td>\n",
       "      <td>33.933670</td>\n",
       "    </tr>\n",
       "    <tr>\n",
       "      <th>15</th>\n",
       "      <td>5954.203125</td>\n",
       "      <td>500.363220</td>\n",
       "      <td>474.814056</td>\n",
       "      <td>4.743744</td>\n",
       "      <td>13.333855</td>\n",
       "      <td>6.290903</td>\n",
       "      <td>42.857624</td>\n",
       "    </tr>\n",
       "    <tr>\n",
       "      <th>16</th>\n",
       "      <td>6381.208008</td>\n",
       "      <td>513.666138</td>\n",
       "      <td>486.255432</td>\n",
       "      <td>4.832687</td>\n",
       "      <td>13.661468</td>\n",
       "      <td>6.437919</td>\n",
       "      <td>41.673679</td>\n",
       "    </tr>\n",
       "    <tr>\n",
       "      <th>17</th>\n",
       "      <td>5499.374023</td>\n",
       "      <td>466.254272</td>\n",
       "      <td>439.819763</td>\n",
       "      <td>4.053549</td>\n",
       "      <td>11.517710</td>\n",
       "      <td>5.397975</td>\n",
       "      <td>34.880440</td>\n",
       "    </tr>\n",
       "    <tr>\n",
       "      <th>18</th>\n",
       "      <td>6169.953125</td>\n",
       "      <td>507.978180</td>\n",
       "      <td>481.116180</td>\n",
       "      <td>4.008364</td>\n",
       "      <td>11.456130</td>\n",
       "      <td>5.438747</td>\n",
       "      <td>36.551498</td>\n",
       "    </tr>\n",
       "    <tr>\n",
       "      <th>19</th>\n",
       "      <td>5746.685547</td>\n",
       "      <td>478.822876</td>\n",
       "      <td>450.598938</td>\n",
       "      <td>3.924666</td>\n",
       "      <td>11.122006</td>\n",
       "      <td>5.176133</td>\n",
       "      <td>34.328945</td>\n",
       "    </tr>\n",
       "    <tr>\n",
       "      <th>20</th>\n",
       "      <td>6282.011230</td>\n",
       "      <td>505.579834</td>\n",
       "      <td>477.105621</td>\n",
       "      <td>3.989089</td>\n",
       "      <td>11.254025</td>\n",
       "      <td>5.304645</td>\n",
       "      <td>34.159233</td>\n",
       "    </tr>\n",
       "    <tr>\n",
       "      <th>21</th>\n",
       "      <td>5652.204102</td>\n",
       "      <td>459.436768</td>\n",
       "      <td>433.713409</td>\n",
       "      <td>3.982536</td>\n",
       "      <td>11.413188</td>\n",
       "      <td>5.209007</td>\n",
       "      <td>33.672012</td>\n",
       "    </tr>\n",
       "    <tr>\n",
       "      <th>22</th>\n",
       "      <td>5553.586426</td>\n",
       "      <td>453.474945</td>\n",
       "      <td>429.763306</td>\n",
       "      <td>3.759436</td>\n",
       "      <td>10.718977</td>\n",
       "      <td>4.902919</td>\n",
       "      <td>33.089733</td>\n",
       "    </tr>\n",
       "    <tr>\n",
       "      <th>23</th>\n",
       "      <td>6464.051758</td>\n",
       "      <td>515.831360</td>\n",
       "      <td>487.483948</td>\n",
       "      <td>5.740413</td>\n",
       "      <td>15.647783</td>\n",
       "      <td>7.127334</td>\n",
       "      <td>45.294907</td>\n",
       "    </tr>\n",
       "    <tr>\n",
       "      <th>24</th>\n",
       "      <td>5686.365723</td>\n",
       "      <td>474.647949</td>\n",
       "      <td>450.468597</td>\n",
       "      <td>4.957802</td>\n",
       "      <td>13.738808</td>\n",
       "      <td>6.239625</td>\n",
       "      <td>40.300095</td>\n",
       "    </tr>\n",
       "    <tr>\n",
       "      <th>25</th>\n",
       "      <td>5833.606934</td>\n",
       "      <td>477.335541</td>\n",
       "      <td>451.283478</td>\n",
       "      <td>4.044602</td>\n",
       "      <td>11.595510</td>\n",
       "      <td>5.369732</td>\n",
       "      <td>38.559917</td>\n",
       "    </tr>\n",
       "    <tr>\n",
       "      <th>26</th>\n",
       "      <td>5987.081055</td>\n",
       "      <td>486.860657</td>\n",
       "      <td>458.952179</td>\n",
       "      <td>4.411911</td>\n",
       "      <td>12.577770</td>\n",
       "      <td>5.880941</td>\n",
       "      <td>41.603462</td>\n",
       "    </tr>\n",
       "    <tr>\n",
       "      <th>27</th>\n",
       "      <td>6283.372070</td>\n",
       "      <td>508.789001</td>\n",
       "      <td>479.701233</td>\n",
       "      <td>4.471424</td>\n",
       "      <td>12.815794</td>\n",
       "      <td>5.893415</td>\n",
       "      <td>42.608875</td>\n",
       "    </tr>\n",
       "    <tr>\n",
       "      <th>28</th>\n",
       "      <td>5672.276855</td>\n",
       "      <td>468.561096</td>\n",
       "      <td>439.838013</td>\n",
       "      <td>5.633267</td>\n",
       "      <td>15.385950</td>\n",
       "      <td>7.088103</td>\n",
       "      <td>49.948170</td>\n",
       "    </tr>\n",
       "    <tr>\n",
       "      <th>29</th>\n",
       "      <td>6141.672852</td>\n",
       "      <td>473.066620</td>\n",
       "      <td>447.671387</td>\n",
       "      <td>5.975659</td>\n",
       "      <td>16.393494</td>\n",
       "      <td>7.532519</td>\n",
       "      <td>49.690601</td>\n",
       "    </tr>\n",
       "  </tbody>\n",
       "</table>\n",
       "</div>"
      ],
      "text/plain": [
       "          conv1       pool1       conv2     pool2        ip1       ip2  \\\n",
       "0   6425.205566  527.632751  497.298126  7.225351  20.448353  9.782156   \n",
       "1   5865.723145  500.731506  483.666107  1.052093   3.352211  1.436034   \n",
       "2   6403.899414  534.200623  511.890228  1.459395   4.514973  2.017583   \n",
       "3   6754.935547  576.536499  549.973694  3.419768  10.018423  4.530115   \n",
       "4   5987.695312  517.822144  493.349670  2.546921   7.526064  3.493712   \n",
       "5   6173.811523  515.226868  491.419403  3.003618   8.732905  4.038671   \n",
       "6   5914.882324  501.554108  479.464783  2.791000   8.282437  3.838466   \n",
       "7   6053.884766  501.749115  478.366608  3.590404  10.314008  4.875860   \n",
       "8   5786.568359  482.805786  458.693237  3.056173   8.839657  4.102325   \n",
       "9   6716.635742  570.340820  542.512756  3.370234   9.593591  4.488956   \n",
       "10  7205.064453  594.001404  564.621399  3.485594  10.084619  4.754122   \n",
       "11  6172.778809  514.428772  487.406219  4.400505  12.624302  5.973035   \n",
       "12  5311.030273  453.564911  429.417450  4.352831  12.224677  5.846443   \n",
       "13  6281.346191  518.325500  491.203491  4.091133  11.690635  5.474343   \n",
       "14  5253.129883  433.303314  413.673920  3.819614  10.972702  5.210629   \n",
       "15  5954.203125  500.363220  474.814056  4.743744  13.333855  6.290903   \n",
       "16  6381.208008  513.666138  486.255432  4.832687  13.661468  6.437919   \n",
       "17  5499.374023  466.254272  439.819763  4.053549  11.517710  5.397975   \n",
       "18  6169.953125  507.978180  481.116180  4.008364  11.456130  5.438747   \n",
       "19  5746.685547  478.822876  450.598938  3.924666  11.122006  5.176133   \n",
       "20  6282.011230  505.579834  477.105621  3.989089  11.254025  5.304645   \n",
       "21  5652.204102  459.436768  433.713409  3.982536  11.413188  5.209007   \n",
       "22  5553.586426  453.474945  429.763306  3.759436  10.718977  4.902919   \n",
       "23  6464.051758  515.831360  487.483948  5.740413  15.647783  7.127334   \n",
       "24  5686.365723  474.647949  450.468597  4.957802  13.738808  6.239625   \n",
       "25  5833.606934  477.335541  451.283478  4.044602  11.595510  5.369732   \n",
       "26  5987.081055  486.860657  458.952179  4.411911  12.577770  5.880941   \n",
       "27  6283.372070  508.789001  479.701233  4.471424  12.815794  5.893415   \n",
       "28  5672.276855  468.561096  439.838013  5.633267  15.385950  7.088103   \n",
       "29  6141.672852  473.066620  447.671387  5.975659  16.393494  7.532519   \n",
       "\n",
       "         prob  \n",
       "0   44.238594  \n",
       "1    4.778584  \n",
       "2    8.937464  \n",
       "3   26.683338  \n",
       "4   23.610308  \n",
       "5   21.889585  \n",
       "6   23.294497  \n",
       "7   31.559923  \n",
       "8   26.738495  \n",
       "9   30.924175  \n",
       "10  33.337494  \n",
       "11  39.545395  \n",
       "12  38.543915  \n",
       "13  37.004749  \n",
       "14  33.933670  \n",
       "15  42.857624  \n",
       "16  41.673679  \n",
       "17  34.880440  \n",
       "18  36.551498  \n",
       "19  34.328945  \n",
       "20  34.159233  \n",
       "21  33.672012  \n",
       "22  33.089733  \n",
       "23  45.294907  \n",
       "24  40.300095  \n",
       "25  38.559917  \n",
       "26  41.603462  \n",
       "27  42.608875  \n",
       "28  49.948170  \n",
       "29  49.690601  "
      ]
     },
     "execution_count": 15,
     "metadata": {},
     "output_type": "execute_result"
    }
   ],
   "source": [
    "var"
   ]
  },
  {
   "cell_type": "code",
   "execution_count": null,
   "metadata": {
    "collapsed": true
   },
   "outputs": [],
   "source": []
  }
 ],
 "metadata": {
  "kernelspec": {
   "display_name": "Python 2",
   "language": "python",
   "name": "python2"
  },
  "language_info": {
   "codemirror_mode": {
    "name": "ipython",
    "version": 2
   },
   "file_extension": ".py",
   "mimetype": "text/x-python",
   "name": "python",
   "nbconvert_exporter": "python",
   "pygments_lexer": "ipython2",
   "version": "2.7.12"
  }
 },
 "nbformat": 4,
 "nbformat_minor": 0
}
