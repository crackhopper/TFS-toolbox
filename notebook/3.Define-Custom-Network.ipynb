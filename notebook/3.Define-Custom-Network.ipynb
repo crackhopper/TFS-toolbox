{
 "cells": [
  {
   "cell_type": "code",
   "execution_count": 1,
   "metadata": {
    "collapsed": false
   },
   "outputs": [],
   "source": [
    "from tfs.network import CustomNetwork\n",
    "from tfs.dataset import Mnist"
   ]
  },
  {
   "cell_type": "code",
   "execution_count": 2,
   "metadata": {
    "collapsed": false,
    "scrolled": false
   },
   "outputs": [
    {
     "name": "stdout",
     "output_type": "stream",
     "text": [
      "step 10. loss 11.567251, test accuracy:0.468900\n",
      "step 20. loss 7.211251, test accuracy:0.654500\n",
      "step 30. loss 3.906935, test accuracy:0.725800\n",
      "step 40. loss 4.285864, test accuracy:0.777700\n",
      "step 50. loss 1.904212, test accuracy:0.786300\n",
      "step 60. loss 2.579560, test accuracy:0.809800\n",
      "step 70. loss 2.312953, test accuracy:0.820400\n",
      "step 80. loss 2.707056, test accuracy:0.829000\n",
      "step 90. loss 1.974905, test accuracy:0.827100\n",
      "step 100. loss 2.067569, test accuracy:0.844000\n",
      "step 110. loss 1.413068, test accuracy:0.841600\n",
      "step 120. loss 2.169155, test accuracy:0.857300\n",
      "step 130. loss 1.764886, test accuracy:0.846100\n",
      "step 140. loss 0.916554, test accuracy:0.856300\n",
      "step 150. loss 1.302124, test accuracy:0.857900\n",
      "step 160. loss 0.906598, test accuracy:0.858100\n",
      "step 170. loss 0.681694, test accuracy:0.863900\n",
      "step 180. loss 1.084500, test accuracy:0.866600\n",
      "step 190. loss 1.292722, test accuracy:0.871700\n",
      "step 200. loss 1.594183, test accuracy:0.875600\n",
      "step 210. loss 1.225774, test accuracy:0.871300\n",
      "step 220. loss 0.960279, test accuracy:0.877700\n",
      "step 230. loss 1.491311, test accuracy:0.877200\n",
      "step 240. loss 1.035043, test accuracy:0.878400\n",
      "step 250. loss 1.397316, test accuracy:0.876900\n",
      "step 260. loss 0.811415, test accuracy:0.879800\n",
      "step 270. loss 0.704565, test accuracy:0.878800\n",
      "step 280. loss 0.828194, test accuracy:0.883900\n",
      "step 290. loss 0.577913, test accuracy:0.884100\n",
      "step 300. loss 0.585172, test accuracy:0.882800\n",
      "step 310. loss 0.540742, test accuracy:0.884300\n",
      "step 320. loss 0.368894, test accuracy:0.894800\n",
      "step 330. loss 0.509960, test accuracy:0.895500\n",
      "step 340. loss 0.515374, test accuracy:0.893000\n",
      "step 350. loss 1.210564, test accuracy:0.899400\n",
      "step 360. loss 0.564569, test accuracy:0.897300\n",
      "step 370. loss 0.596628, test accuracy:0.897200\n",
      "step 380. loss 0.788497, test accuracy:0.897100\n",
      "step 390. loss 0.783833, test accuracy:0.893400\n",
      "step 400. loss 0.535809, test accuracy:0.897400\n",
      "step 410. loss 0.430862, test accuracy:0.900900\n",
      "step 420. loss 0.608546, test accuracy:0.903800\n",
      "step 430. loss 0.436343, test accuracy:0.905000\n",
      "step 440. loss 0.446719, test accuracy:0.904400\n",
      "step 450. loss 0.603011, test accuracy:0.901500\n",
      "step 460. loss 0.391245, test accuracy:0.904900\n",
      "step 470. loss 0.349864, test accuracy:0.903000\n",
      "step 480. loss 0.463391, test accuracy:0.909000\n",
      "step 490. loss 0.530355, test accuracy:0.907300\n",
      "step 500. loss 0.498889, test accuracy:0.902900\n",
      "step 510. loss 0.409269, test accuracy:0.905400\n",
      "step 520. loss 0.594805, test accuracy:0.910300\n",
      "step 530. loss 0.478929, test accuracy:0.911200\n",
      "step 540. loss 0.680730, test accuracy:0.907300\n",
      "step 550. loss 0.493549, test accuracy:0.907000\n",
      "step 560. loss 0.644059, test accuracy:0.914600\n",
      "step 570. loss 0.193451, test accuracy:0.911600\n",
      "step 580. loss 0.439235, test accuracy:0.911900\n",
      "step 590. loss 0.858094, test accuracy:0.912600\n",
      "step 600. loss 0.517674, test accuracy:0.906200\n"
     ]
    },
    {
     "data": {
      "text/plain": [
       "<__main__.MyNet at 0x10e8eff50>"
      ]
     },
     "execution_count": 2,
     "metadata": {},
     "output_type": "execute_result"
    }
   ],
   "source": [
    "class MyNet(CustomNetwork):\n",
    "    def setup(self):\n",
    "        self.default_in_shape = [None,28,28,1]\n",
    "        self.loss_input_layer_name = 'fc3'\n",
    "        (self.nodes\n",
    "            .fc(100,name='fc1')\n",
    "            .fc(100,name='fc2')\n",
    "            .fc(10, activation=None,name='fc3')\n",
    "            .softmax(name='prob')\n",
    "        )\n",
    "        \n",
    "net = MyNet()\n",
    "net.build()\n",
    "dataset = Mnist()\n",
    "net.fit(dataset,batch_size=200,n_epoch=2)"
   ]
  },
  {
   "cell_type": "code",
   "execution_count": null,
   "metadata": {
    "collapsed": true
   },
   "outputs": [],
   "source": []
  }
 ],
 "metadata": {
  "kernelspec": {
   "display_name": "Python 2",
   "language": "python",
   "name": "python2"
  },
  "language_info": {
   "codemirror_mode": {
    "name": "ipython",
    "version": 2
   },
   "file_extension": ".py",
   "mimetype": "text/x-python",
   "name": "python",
   "nbconvert_exporter": "python",
   "pygments_lexer": "ipython2",
   "version": "2.7.12"
  }
 },
 "nbformat": 4,
 "nbformat_minor": 0
}
