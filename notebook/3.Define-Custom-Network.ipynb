{
 "cells": [
  {
   "cell_type": "code",
   "execution_count": 1,
   "metadata": {
    "collapsed": false
   },
   "outputs": [],
   "source": [
    "from tfs.network import CustomNetwork\n",
    "from tfs.dataset import Mnist"
   ]
  },
  {
   "cell_type": "code",
   "execution_count": 2,
   "metadata": {
    "collapsed": false,
    "scrolled": false
   },
   "outputs": [
    {
     "name": "stdout",
     "output_type": "stream",
     "text": [
      "step 10. loss 9.848982, score:0.557900\n",
      "step 20. loss 5.812720, score:0.719800\n",
      "step 30. loss 5.057542, score:0.778100\n",
      "step 40. loss 4.946941, score:0.809300\n",
      "step 50. loss 1.830094, score:0.823900\n",
      "step 60. loss 2.381712, score:0.833700\n",
      "step 70. loss 3.349250, score:0.829500\n",
      "step 80. loss 3.084479, score:0.835300\n",
      "step 90. loss 1.218812, score:0.856400\n",
      "step 100. loss 2.914572, score:0.867000\n",
      "step 110. loss 1.212699, score:0.865800\n",
      "step 120. loss 1.842257, score:0.868400\n",
      "step 130. loss 1.593982, score:0.859500\n",
      "step 140. loss 1.379951, score:0.865100\n",
      "step 150. loss 1.896303, score:0.864300\n",
      "step 160. loss 1.409557, score:0.871400\n",
      "step 170. loss 0.490144, score:0.884400\n",
      "step 180. loss 0.882401, score:0.889500\n",
      "step 190. loss 1.261182, score:0.888400\n",
      "step 200. loss 0.895965, score:0.889900\n",
      "step 210. loss 1.267546, score:0.891500\n",
      "step 220. loss 1.222363, score:0.890000\n",
      "step 230. loss 1.134108, score:0.885900\n",
      "step 240. loss 0.932302, score:0.891800\n",
      "step 250. loss 1.216363, score:0.896000\n",
      "step 260. loss 0.928397, score:0.888200\n",
      "step 270. loss 1.388842, score:0.893800\n",
      "step 280. loss 0.751991, score:0.898700\n",
      "step 290. loss 0.415645, score:0.903800\n",
      "step 300. loss 0.511151, score:0.902900\n",
      "step 310. loss 0.766532, score:0.899900\n",
      "step 320. loss 0.810046, score:0.909600\n",
      "step 330. loss 0.416960, score:0.907100\n",
      "step 340. loss 0.735516, score:0.903900\n",
      "step 350. loss 0.266978, score:0.911300\n",
      "step 360. loss 0.734636, score:0.908300\n",
      "step 370. loss 0.873375, score:0.908900\n",
      "step 380. loss 0.387011, score:0.907200\n",
      "step 390. loss 0.857715, score:0.910400\n",
      "step 400. loss 0.492993, score:0.903500\n",
      "step 410. loss 0.463242, score:0.911900\n",
      "step 420. loss 0.709660, score:0.911200\n",
      "step 430. loss 0.537762, score:0.908300\n",
      "step 440. loss 0.377251, score:0.911100\n",
      "step 450. loss 0.716996, score:0.914400\n",
      "step 460. loss 0.443953, score:0.911800\n",
      "step 470. loss 0.267376, score:0.916500\n",
      "step 480. loss 0.467868, score:0.913500\n",
      "step 490. loss 0.505337, score:0.912200\n",
      "step 500. loss 0.616280, score:0.915600\n",
      "step 510. loss 0.476829, score:0.914000\n",
      "step 520. loss 0.406835, score:0.913600\n",
      "step 530. loss 0.441625, score:0.920200\n",
      "step 540. loss 0.345150, score:0.921700\n",
      "step 550. loss 0.202693, score:0.916300\n",
      "step 560. loss 0.275747, score:0.919400\n",
      "step 570. loss 0.399429, score:0.918100\n",
      "step 580. loss 0.296891, score:0.923000\n",
      "step 590. loss 0.518799, score:0.918700\n",
      "step 600. loss 0.469096, score:0.919800\n"
     ]
    },
    {
     "data": {
      "text/plain": [
       "<__main__.MyNet at 0x114dfec50>"
      ]
     },
     "execution_count": 2,
     "metadata": {},
     "output_type": "execute_result"
    }
   ],
   "source": [
    "class MyNet(CustomNetwork):\n",
    "    def setup(self):\n",
    "        self.default_in_shape = [None,28,28,1]\n",
    "        self.loss_input_layer_name = 'fc3'  # this is because we may not use the last layer to compute a loss.\n",
    "        (self.nodes\n",
    "            .fc(100,name='fc1')\n",
    "            .fc(100,name='fc2')\n",
    "            .fc(10, activation=None,name='fc3')\n",
    "            .softmax(name='prob')\n",
    "        )\n",
    "        \n",
    "net = MyNet()\n",
    "net.build()\n",
    "dataset = Mnist()\n",
    "net.fit(dataset,batch_size=200,n_epoch=2)"
   ]
  },
  {
   "cell_type": "code",
   "execution_count": null,
   "metadata": {
    "collapsed": true
   },
   "outputs": [],
   "source": []
  }
 ],
 "metadata": {
  "kernelspec": {
   "display_name": "Python 2",
   "language": "python",
   "name": "python2"
  },
  "language_info": {
   "codemirror_mode": {
    "name": "ipython",
    "version": 2
   },
   "file_extension": ".py",
   "mimetype": "text/x-python",
   "name": "python",
   "nbconvert_exporter": "python",
   "pygments_lexer": "ipython2",
   "version": "2.7.12"
  }
 },
 "nbformat": 4,
 "nbformat_minor": 0
}
