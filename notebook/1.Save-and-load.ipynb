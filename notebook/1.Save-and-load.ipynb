{
 "cells": [
  {
   "cell_type": "markdown",
   "metadata": {},
   "source": [
    "# Save and Load\n",
    "\n",
    "In this notebook, we will \n",
    "- train a LeNet and save it\n",
    "- load the model from the file\n",
    "- test the loaded model"
   ]
  },
  {
   "cell_type": "code",
   "execution_count": 1,
   "metadata": {
    "collapsed": true
   },
   "outputs": [],
   "source": [
    "from tfs.models import LeNet\n",
    "from tfs.dataset import Mnist\n",
    "net = LeNet()\n",
    "dataset = Mnist()"
   ]
  },
  {
   "cell_type": "markdown",
   "metadata": {},
   "source": [
    "- modify the network:\n",
    "  - L1 regularizer\n",
    "  - SGD optimizer"
   ]
  },
  {
   "cell_type": "code",
   "execution_count": 2,
   "metadata": {
    "collapsed": false
   },
   "outputs": [
    {
     "data": {
      "text/plain": [
       "<tf.Tensor 'prob:0' shape=(?, 10) dtype=float32>"
      ]
     },
     "execution_count": 2,
     "metadata": {},
     "output_type": "execute_result"
    }
   ],
   "source": [
    "from tfs.core.loss import SquareError\n",
    "from tfs.core.regularizers import L1\n",
    "from tfs.core.optimizer import GradientDecentOptimizer\n",
    "\n",
    "net.optimizer = GradientDecentOptimizer(net)\n",
    "net.regularizer = L1(net,l1=0.001)\n",
    "\n",
    "net.build()"
   ]
  },
  {
   "cell_type": "code",
   "execution_count": 3,
   "metadata": {
    "collapsed": false
   },
   "outputs": [
    {
     "name": "stdout",
     "output_type": "stream",
     "text": [
      "step 10. loss 16.060362, test accuracy:0.483300\n",
      "step 20. loss 15.429797, test accuracy:0.669000\n",
      "step 30. loss 15.625422, test accuracy:0.729900\n",
      "step 40. loss 15.417727, test accuracy:0.767500\n",
      "step 50. loss 15.047843, test accuracy:0.786000\n",
      "step 60. loss 15.130813, test accuracy:0.805500\n",
      "step 70. loss 15.415454, test accuracy:0.827100\n",
      "step 80. loss 15.229403, test accuracy:0.838600\n",
      "step 90. loss 15.023952, test accuracy:0.845100\n",
      "step 100. loss 15.106738, test accuracy:0.859400\n"
     ]
    },
    {
     "data": {
      "text/plain": [
       "<tfs.models.lenet.LeNet at 0x103f33410>"
      ]
     },
     "execution_count": 3,
     "metadata": {},
     "output_type": "execute_result"
    }
   ],
   "source": [
    "net.fit(dataset,batch_size=200,n_epoch=1,max_step=100)"
   ]
  },
  {
   "cell_type": "code",
   "execution_count": 4,
   "metadata": {
    "collapsed": false,
    "scrolled": false
   },
   "outputs": [],
   "source": [
    "net.save('lenet_epoch_1')"
   ]
  },
  {
   "cell_type": "markdown",
   "metadata": {},
   "source": [
    "# load the model"
   ]
  },
  {
   "cell_type": "code",
   "execution_count": 5,
   "metadata": {
    "collapsed": false
   },
   "outputs": [],
   "source": [
    "from tfs.network import Network\n",
    "net2 = Network()\n",
    "net2.load('lenet_epoch_1')"
   ]
  },
  {
   "cell_type": "code",
   "execution_count": 6,
   "metadata": {
    "collapsed": false
   },
   "outputs": [
    {
     "name": "stdout",
     "output_type": "stream",
     "text": [
      "Name:conv1     \tType:Conv2d(knum=20,ksize=[5, 5],strides=[1, 1],padding=VALID,activation=None)\n",
      "Name:pool1     \tType:MaxPool(ksize=[2, 2],strides=[2, 2])\n",
      "Name:conv2     \tType:Conv2d(knum=50,ksize=[5, 5],strides=[1, 1],padding=VALID,activation=relu)\n",
      "Name:pool2     \tType:MaxPool(ksize=[2, 2],strides=[2, 2])\n",
      "Name:ip1       \tType:FullyConnect(outdim=500,activation=relu)\n",
      "Name:ip2       \tType:FullyConnect(outdim=10,activation=None)\n",
      "Name:prob      \tType:Softmax()\n"
     ]
    }
   ],
   "source": [
    "print net2"
   ]
  },
  {
   "cell_type": "code",
   "execution_count": 7,
   "metadata": {
    "collapsed": false
   },
   "outputs": [
    {
     "name": "stdout",
     "output_type": "stream",
     "text": [
      "GradientDecentOptimizer\n",
      "-----param-----\n",
      "learning_rate=0.001,print_names=['learning_rate']\n",
      "---------------\n"
     ]
    }
   ],
   "source": [
    "print net2.optimizer"
   ]
  },
  {
   "cell_type": "code",
   "execution_count": 8,
   "metadata": {
    "collapsed": false
   },
   "outputs": [
    {
     "name": "stdout",
     "output_type": "stream",
     "text": [
      "DefaultInitializer\n",
      "-----param-----\n",
      "print_names=[]\n",
      "-----nodes-----\n",
      "conv1\n",
      "    conv1/weights:0     xavier(seed=None,uniform=True,mode=FAN_AVG,factor=1.0)\n",
      "    conv1/biases:0      constant(val=0.1)\n",
      "pool1\n",
      "conv2\n",
      "    conv2/biases:0      constant(val=0.1)\n",
      "    conv2/weights:0     xavier(seed=None,uniform=True,mode=FAN_AVG,factor=1.0)\n",
      "pool2\n",
      "ip1\n",
      "    ip1/weights:0       xavier(seed=None,uniform=True,mode=FAN_AVG,factor=1.0)\n",
      "    ip1/biases:0        constant(val=0.1)\n",
      "ip2\n",
      "    ip2/biases:0        constant(val=0.1)\n",
      "    ip2/weights:0       xavier(seed=None,uniform=True,mode=FAN_AVG,factor=1.0)\n",
      "prob\n"
     ]
    }
   ],
   "source": [
    "print net2.initializer"
   ]
  },
  {
   "cell_type": "code",
   "execution_count": 9,
   "metadata": {
    "collapsed": false
   },
   "outputs": [
    {
     "name": "stdout",
     "output_type": "stream",
     "text": [
      "CrossEntropy (ip2)\n",
      "-----param-----\n",
      "----------------\n"
     ]
    }
   ],
   "source": [
    "print net2.losser"
   ]
  },
  {
   "cell_type": "code",
   "execution_count": 10,
   "metadata": {
    "collapsed": false
   },
   "outputs": [
    {
     "name": "stdout",
     "output_type": "stream",
     "text": [
      "accuracy 0.8594\n"
     ]
    }
   ],
   "source": [
    "print 'accuracy',net2.score(dataset.test)"
   ]
  },
  {
   "cell_type": "markdown",
   "metadata": {},
   "source": [
    "- fine-tune the loaded model"
   ]
  },
  {
   "cell_type": "code",
   "execution_count": 11,
   "metadata": {
    "collapsed": false,
    "scrolled": true
   },
   "outputs": [
    {
     "name": "stdout",
     "output_type": "stream",
     "text": [
      "step 10. loss 14.910274, test accuracy:0.865900\n",
      "step 20. loss 14.890550, test accuracy:0.867600\n",
      "step 30. loss 15.022003, test accuracy:0.874200\n",
      "step 40. loss 14.989733, test accuracy:0.878200\n",
      "step 50. loss 14.791606, test accuracy:0.877000\n",
      "step 60. loss 14.925334, test accuracy:0.872400\n",
      "step 70. loss 15.155923, test accuracy:0.884500\n",
      "step 80. loss 15.014328, test accuracy:0.886100\n",
      "step 90. loss 14.837150, test accuracy:0.894900\n",
      "step 100. loss 14.903042, test accuracy:0.894500\n"
     ]
    },
    {
     "data": {
      "text/plain": [
       "<tfs.network.base.Network at 0x112ab5a10>"
      ]
     },
     "execution_count": 11,
     "metadata": {},
     "output_type": "execute_result"
    }
   ],
   "source": [
    "net2.fit(dataset,batch_size=200,n_epoch=1,max_step=100)"
   ]
  },
  {
   "cell_type": "code",
   "execution_count": 12,
   "metadata": {
    "collapsed": false
   },
   "outputs": [
    {
     "data": {
      "text/plain": [
       "0.89449999999999996"
      ]
     },
     "execution_count": 12,
     "metadata": {},
     "output_type": "execute_result"
    }
   ],
   "source": [
    "net2.score(dataset.test)"
   ]
  },
  {
   "cell_type": "code",
   "execution_count": null,
   "metadata": {
    "collapsed": true
   },
   "outputs": [],
   "source": []
  }
 ],
 "metadata": {
  "kernelspec": {
   "display_name": "Python 2",
   "language": "python",
   "name": "python2"
  },
  "language_info": {
   "codemirror_mode": {
    "name": "ipython",
    "version": 2
   },
   "file_extension": ".py",
   "mimetype": "text/x-python",
   "name": "python",
   "nbconvert_exporter": "python",
   "pygments_lexer": "ipython2",
   "version": "2.7.12"
  }
 },
 "nbformat": 4,
 "nbformat_minor": 0
}
