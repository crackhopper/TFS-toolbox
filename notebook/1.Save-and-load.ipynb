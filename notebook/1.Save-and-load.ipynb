{
 "cells": [
  {
   "cell_type": "markdown",
   "metadata": {},
   "source": [
    "# Save and Load\n",
    "\n",
    "In this notebook, we will \n",
    "- train a LeNet and save it\n",
    "- load the model from the file\n",
    "- test the loaded model"
   ]
  },
  {
   "cell_type": "code",
   "execution_count": 1,
   "metadata": {
    "collapsed": true
   },
   "outputs": [],
   "source": [
    "from tfs.models import LeNet\n",
    "from tfs.dataset import Mnist\n",
    "net = LeNet()\n",
    "dataset = Mnist()"
   ]
  },
  {
   "cell_type": "markdown",
   "metadata": {},
   "source": [
    "- modify the network:\n",
    "  - L1 regularizer\n",
    "  - SGD optimizer"
   ]
  },
  {
   "cell_type": "code",
   "execution_count": 2,
   "metadata": {
    "collapsed": false
   },
   "outputs": [
    {
     "data": {
      "text/plain": [
       "<tf.Tensor 'prob:0' shape=(?, 10) dtype=float32>"
      ]
     },
     "execution_count": 2,
     "metadata": {},
     "output_type": "execute_result"
    }
   ],
   "source": [
    "from tfs.core.optimizer import GradientDecentOptimizer\n",
    "from tfs.core.regularizers import L1\n",
    "\n",
    "net.optimizer = GradientDecentOptimizer(net)\n",
    "net.regularizer = L1(net,l1=0.001)\n",
    "\n",
    "net.build()"
   ]
  },
  {
   "cell_type": "code",
   "execution_count": 3,
   "metadata": {
    "collapsed": false
   },
   "outputs": [
    {
     "name": "stdout",
     "output_type": "stream",
     "text": [
      "step 10. loss 16.249886, score:0.403800\n",
      "step 20. loss 15.966318, score:0.514600\n",
      "step 30. loss 15.660644, score:0.597500\n",
      "step 40. loss 15.390107, score:0.671600\n",
      "step 50. loss 15.192878, score:0.712800\n",
      "step 60. loss 15.279219, score:0.747200\n",
      "step 70. loss 15.208706, score:0.776600\n",
      "step 80. loss 15.325734, score:0.794400\n",
      "step 90. loss 15.101788, score:0.813800\n",
      "step 100. loss 15.025336, score:0.827500\n"
     ]
    },
    {
     "data": {
      "text/plain": [
       "<tfs.models.lenet.LeNet at 0x103f28c90>"
      ]
     },
     "execution_count": 3,
     "metadata": {},
     "output_type": "execute_result"
    }
   ],
   "source": [
    "net.fit(dataset,batch_size=200,n_epoch=1,max_step=100)"
   ]
  },
  {
   "cell_type": "code",
   "execution_count": 4,
   "metadata": {
    "collapsed": false,
    "scrolled": false
   },
   "outputs": [],
   "source": [
    "net.save('lenet_epoch_1')"
   ]
  },
  {
   "cell_type": "code",
   "execution_count": 5,
   "metadata": {
    "collapsed": false
   },
   "outputs": [
    {
     "name": "stdout",
     "output_type": "stream",
     "text": [
      "0.Train-LeNet.ipynb           4.Custom-Initializer.ipynb\r\n",
      "1.Save-and-load.ipynb         lenet_epoch_1.model\r\n",
      "2.Visualize-LeNet.ipynb       lenet_epoch_1.modeldef\r\n",
      "3.Define-Custom-Network.ipynb\r\n"
     ]
    }
   ],
   "source": [
    "!ls ./"
   ]
  },
  {
   "cell_type": "markdown",
   "metadata": {},
   "source": [
    "# load the model"
   ]
  },
  {
   "cell_type": "code",
   "execution_count": 6,
   "metadata": {
    "collapsed": false
   },
   "outputs": [],
   "source": [
    "from tfs.network import Network\n",
    "net2 = Network()\n",
    "net2.load('lenet_epoch_1')"
   ]
  },
  {
   "cell_type": "code",
   "execution_count": 7,
   "metadata": {
    "collapsed": false
   },
   "outputs": [
    {
     "name": "stdout",
     "output_type": "stream",
     "text": [
      "Name:conv1     \tType:Conv2d(knum=20,ksize=[5, 5],strides=[1, 1],padding=VALID,activation=None)\n",
      "Name:pool1     \tType:MaxPool(ksize=[2, 2],strides=[2, 2])\n",
      "Name:conv2     \tType:Conv2d(knum=50,ksize=[5, 5],strides=[1, 1],padding=VALID,activation=relu)\n",
      "Name:pool2     \tType:MaxPool(ksize=[2, 2],strides=[2, 2])\n",
      "Name:ip1       \tType:FullyConnect(outdim=500,activation=relu)\n",
      "Name:ip2       \tType:FullyConnect(outdim=10,activation=None)\n",
      "Name:prob      \tType:Softmax()\n"
     ]
    }
   ],
   "source": [
    "print net2"
   ]
  },
  {
   "cell_type": "code",
   "execution_count": 8,
   "metadata": {
    "collapsed": false
   },
   "outputs": [
    {
     "name": "stdout",
     "output_type": "stream",
     "text": [
      "GradientDecentOptimizer\n",
      "-----param-----\n",
      "learning_rate=0.001,print_names=['learning_rate']\n",
      "---------------\n"
     ]
    }
   ],
   "source": [
    "print net2.optimizer"
   ]
  },
  {
   "cell_type": "code",
   "execution_count": 9,
   "metadata": {
    "collapsed": false
   },
   "outputs": [
    {
     "name": "stdout",
     "output_type": "stream",
     "text": [
      "DefaultInitializer\n",
      "-----param-----\n",
      "print_names=[]\n",
      "-----nodes-----\n",
      "conv1\n",
      "    conv1/weights:0     xavier(seed=None,uniform=True,mode=FAN_AVG,factor=1.0)\n",
      "    conv1/biases:0      constant(val=0.1)\n",
      "pool1\n",
      "conv2\n",
      "    conv2/biases:0      constant(val=0.1)\n",
      "    conv2/weights:0     xavier(seed=None,uniform=True,mode=FAN_AVG,factor=1.0)\n",
      "pool2\n",
      "ip1\n",
      "    ip1/weights:0       xavier(seed=None,uniform=True,mode=FAN_AVG,factor=1.0)\n",
      "    ip1/biases:0        constant(val=0.1)\n",
      "ip2\n",
      "    ip2/biases:0        constant(val=0.1)\n",
      "    ip2/weights:0       xavier(seed=None,uniform=True,mode=FAN_AVG,factor=1.0)\n",
      "prob\n"
     ]
    }
   ],
   "source": [
    "print net2.initializer"
   ]
  },
  {
   "cell_type": "code",
   "execution_count": 10,
   "metadata": {
    "collapsed": false
   },
   "outputs": [
    {
     "name": "stdout",
     "output_type": "stream",
     "text": [
      "CrossEntropyByLogitLabel (ip2)\n",
      "-----param-----\n",
      "----------------\n"
     ]
    }
   ],
   "source": [
    "print net2.losser"
   ]
  },
  {
   "cell_type": "code",
   "execution_count": 11,
   "metadata": {
    "collapsed": false
   },
   "outputs": [
    {
     "name": "stdout",
     "output_type": "stream",
     "text": [
      "accuracy 0.8275\n"
     ]
    }
   ],
   "source": [
    "print 'accuracy',net2.score(dataset.test)"
   ]
  },
  {
   "cell_type": "markdown",
   "metadata": {},
   "source": [
    "- fine-tune the loaded model"
   ]
  },
  {
   "cell_type": "code",
   "execution_count": 12,
   "metadata": {
    "collapsed": false,
    "scrolled": true
   },
   "outputs": [
    {
     "name": "stdout",
     "output_type": "stream",
     "text": [
      "step 10. loss 14.938343, score:0.841300\n",
      "step 20. loss 14.967062, score:0.850700\n",
      "step 30. loss 14.971493, score:0.854300\n",
      "step 40. loss 14.915509, score:0.864300\n",
      "step 50. loss 14.754118, score:0.864100\n",
      "step 60. loss 14.821177, score:0.871000\n",
      "step 70. loss 14.832127, score:0.882600\n",
      "step 80. loss 15.034270, score:0.875900\n",
      "step 90. loss 14.842802, score:0.886700\n",
      "step 100. loss 14.856237, score:0.889400\n"
     ]
    },
    {
     "data": {
      "text/plain": [
       "<tfs.network.base.Network at 0x1187b7590>"
      ]
     },
     "execution_count": 12,
     "metadata": {},
     "output_type": "execute_result"
    }
   ],
   "source": [
    "net2.fit(dataset,batch_size=200,n_epoch=1,max_step=100)"
   ]
  },
  {
   "cell_type": "code",
   "execution_count": 13,
   "metadata": {
    "collapsed": false
   },
   "outputs": [
    {
     "data": {
      "text/plain": [
       "0.88939999999999997"
      ]
     },
     "execution_count": 13,
     "metadata": {},
     "output_type": "execute_result"
    }
   ],
   "source": [
    "net2.score(dataset.test)"
   ]
  },
  {
   "cell_type": "code",
   "execution_count": null,
   "metadata": {
    "collapsed": true
   },
   "outputs": [],
   "source": []
  }
 ],
 "metadata": {
  "kernelspec": {
   "display_name": "Python 2",
   "language": "python",
   "name": "python2"
  },
  "language_info": {
   "codemirror_mode": {
    "name": "ipython",
    "version": 2
   },
   "file_extension": ".py",
   "mimetype": "text/x-python",
   "name": "python",
   "nbconvert_exporter": "python",
   "pygments_lexer": "ipython2",
   "version": "2.7.12"
  }
 },
 "nbformat": 4,
 "nbformat_minor": 0
}
