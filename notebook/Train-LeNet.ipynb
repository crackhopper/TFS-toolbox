{
 "cells": [
  {
   "cell_type": "markdown",
   "metadata": {},
   "source": [
    "# Load LeNet Model\n",
    "- some famous models have already been distributed together with the package\n",
    "- we provide some tools to look into the models"
   ]
  },
  {
   "cell_type": "code",
   "execution_count": 1,
   "metadata": {
    "collapsed": false
   },
   "outputs": [
    {
     "name": "stdout",
     "output_type": "stream",
     "text": [
      "Populating the interactive namespace from numpy and matplotlib\n"
     ]
    }
   ],
   "source": [
    "%pylab inline\n",
    "from tfs.models import LeNet\n",
    "net = LeNet()"
   ]
  },
  {
   "cell_type": "markdown",
   "metadata": {},
   "source": [
    "# Build the network\n",
    "- before we use the network object, we need to `build()` it first. \n",
    "- by default, any network object only contains definitions about the network.  we need to call build() function to construct the computational graph."
   ]
  },
  {
   "cell_type": "code",
   "execution_count": 2,
   "metadata": {
    "collapsed": false,
    "scrolled": true
   },
   "outputs": [
    {
     "name": "stdout",
     "output_type": "stream",
     "text": [
      "Tensor(\"prob:0\", shape=(?, 10), dtype=float32)\n"
     ]
    }
   ],
   "source": [
    "netout = net.build()\n",
    "print netout"
   ]
  },
  {
   "cell_type": "markdown",
   "metadata": {},
   "source": [
    "# Explore the network object"
   ]
  },
  {
   "cell_type": "markdown",
   "metadata": {},
   "source": [
    "- we can see the network structure easily"
   ]
  },
  {
   "cell_type": "code",
   "execution_count": 3,
   "metadata": {
    "collapsed": false
   },
   "outputs": [
    {
     "name": "stdout",
     "output_type": "stream",
     "text": [
      "Conv2d(knum=20,biased=True,group=1,name=conv1,activation=None,padding=VALID,strides=[1, 1],ksize=[5, 5])\n",
      "MaxPool(padding=VALID,strides=[2, 2],ksize=[2, 2],name=pool1)\n",
      "Conv2d(knum=50,biased=True,group=1,name=conv2,activation=relu,padding=VALID,strides=[1, 1],ksize=[5, 5])\n",
      "MaxPool(padding=VALID,strides=[2, 2],ksize=[2, 2],name=pool2)\n",
      "FullyConnect(outdim=500,activation=relu,name=ip1)\n",
      "FullyConnect(outdim=10,activation=None,name=ip2)\n",
      "Softmax(name=prob)\n"
     ]
    }
   ],
   "source": [
    "print net"
   ]
  },
  {
   "cell_type": "code",
   "execution_count": 4,
   "metadata": {
    "collapsed": false
   },
   "outputs": [
    {
     "name": "stdout",
     "output_type": "stream",
     "text": [
      "conv1(Conv2d)               (?, 28, 28, 1) -> (?, 24, 24, 20)     \n",
      "pool1(MaxPool)             (?, 24, 24, 20) -> (?, 12, 12, 20)     \n",
      "conv2(Conv2d)              (?, 12, 12, 20) -> (?, 8, 8, 50)       \n",
      "pool2(MaxPool)               (?, 8, 8, 50) -> (?, 4, 4, 50)       \n",
      "ip1(FC)                      (?, 4, 4, 50) -> (?, 500)            \n",
      "ip2(FC)                           (?, 500) -> (?, 10)             \n",
      "prob(Softmax)                      (?, 10) -> (?, 10)             \n",
      "None\n"
     ]
    }
   ],
   "source": [
    "print net.print_shape()"
   ]
  },
  {
   "cell_type": "markdown",
   "metadata": {},
   "source": [
    "- each network object also has the following components binding with it:\n",
    "  - initializer\n",
    "  - loss\n",
    "  - optimizer"
   ]
  },
  {
   "cell_type": "code",
   "execution_count": 5,
   "metadata": {
    "collapsed": false
   },
   "outputs": [
    {
     "name": "stdout",
     "output_type": "stream",
     "text": [
      "DefaultInitializer\n",
      "-----param-----\n",
      "\n",
      "-----nodes-----\n",
      "conv1\n",
      "    conv1/weights:0     xavier(seed=None,uniform=True,mode=FAN_AVG,factor=1.0)\n",
      "    conv1/biases:0      constant(val=0.1)\n",
      "pool1\n",
      "conv2\n",
      "    conv2/biases:0      constant(val=0.1)\n",
      "    conv2/weights:0     xavier(seed=None,uniform=True,mode=FAN_AVG,factor=1.0)\n",
      "pool2\n",
      "ip1\n",
      "    ip1/weights:0       xavier(seed=None,uniform=True,mode=FAN_AVG,factor=1.0)\n",
      "    ip1/biases:0        constant(val=0.1)\n",
      "ip2\n",
      "    ip2/biases:0        constant(val=0.1)\n",
      "    ip2/weights:0       xavier(seed=None,uniform=True,mode=FAN_AVG,factor=1.0)\n",
      "prob\n"
     ]
    }
   ],
   "source": [
    "print net.initializer"
   ]
  },
  {
   "cell_type": "code",
   "execution_count": 6,
   "metadata": {
    "collapsed": false
   },
   "outputs": [
    {
     "name": "stdout",
     "output_type": "stream",
     "text": [
      "CrossEntropy (ip2)\n",
      "-----param-----\n",
      "----------------\n"
     ]
    }
   ],
   "source": [
    "print net.losser"
   ]
  },
  {
   "cell_type": "code",
   "execution_count": 7,
   "metadata": {
    "collapsed": false
   },
   "outputs": [
    {
     "name": "stdout",
     "output_type": "stream",
     "text": [
      "AdamOptimizer\n",
      "-----param-----\n",
      "learning_rate=0.001\n",
      "---------------\n"
     ]
    }
   ],
   "source": [
    "print net.optimizer"
   ]
  },
  {
   "cell_type": "markdown",
   "metadata": {},
   "source": [
    "# Load and explore the data\n",
    "- after we have construct the model, what we need to do next is to load data.\n",
    "- our package has provided some frequently used dataset, such as Mnist, and Cifar10"
   ]
  },
  {
   "cell_type": "code",
   "execution_count": 8,
   "metadata": {
    "collapsed": true
   },
   "outputs": [],
   "source": [
    "from tfs.dataset import Mnist\n",
    "dataset = Mnist()"
   ]
  },
  {
   "cell_type": "markdown",
   "metadata": {},
   "source": [
    "- we can explore the image inside the mnist dataset"
   ]
  },
  {
   "cell_type": "code",
   "execution_count": 9,
   "metadata": {
    "collapsed": false
   },
   "outputs": [
    {
     "name": "stdout",
     "output_type": "stream",
     "text": [
      "index: 32376 \tlabel: 3\n"
     ]
    },
    {
     "data": {
      "image/png": "[encoded data removed]",
      "text/plain": [
       "<matplotlib.figure.Figure at 0x10a5ed0d0>"
      ]
     },
     "metadata": {},
     "output_type": "display_data"
    }
   ],
   "source": [
    "import numpy as np\n",
    "idx = np.random.randint(0,60000) # we have 60000 images in the training dataset\n",
    "img = dataset.train.data[idx,:,:,0]\n",
    "lbl = dataset.train.labels[idx]\n",
    "imshow(img,cmap='gray')\n",
    "print 'index:',idx,'\\t','label:',lbl"
   ]
  },
  {
   "cell_type": "markdown",
   "metadata": {},
   "source": [
    "# Train the network\n",
    "- It's very easy to train a network, just use `fit` function, which is a bit like `sklearn`\n",
    "- If you want to record some information during training, you can define a monitor, and plug it onto the network\n",
    "- The default monitor would only print some information every 10 steps."
   ]
  },
  {
   "cell_type": "code",
   "execution_count": 10,
   "metadata": {
    "collapsed": false
   },
   "outputs": [
    {
     "data": {
      "text/plain": [
       "{'default': DefaultMonitor(net,interval=10)}"
      ]
     },
     "execution_count": 10,
     "metadata": {},
     "output_type": "execute_result"
    }
   ],
   "source": [
    "net.monitor"
   ]
  },
  {
   "cell_type": "markdown",
   "metadata": {},
   "source": [
    "- now we change the print step to 20, and add a monitor that record the variance of each layer's input and output."
   ]
  },
  {
   "cell_type": "code",
   "execution_count": 11,
   "metadata": {
    "collapsed": false
   },
   "outputs": [],
   "source": [
    "from tfs.core.monitor import *\n",
    "net.monitor['default'].interval=20\n",
    "net.monitor['var'] = InputVarMonitor(net,interval=10)"
   ]
  },
  {
   "cell_type": "code",
   "execution_count": 12,
   "metadata": {
    "collapsed": false,
    "scrolled": false
   },
   "outputs": [
    {
     "name": "stdout",
     "output_type": "stream",
     "text": [
      "step 20. loss 1.242493, test accuracy:0.604000\n",
      "step 40. loss 0.538240, test accuracy:0.843900\n",
      "step 60. loss 0.268433, test accuracy:0.906300\n",
      "step 80. loss 0.267693, test accuracy:0.924000\n",
      "step 100. loss 0.147162, test accuracy:0.938700\n",
      "step 120. loss 0.214529, test accuracy:0.943500\n",
      "step 140. loss 0.188704, test accuracy:0.948500\n",
      "step 160. loss 0.142271, test accuracy:0.956500\n",
      "step 180. loss 0.125045, test accuracy:0.958100\n",
      "step 200. loss 0.169005, test accuracy:0.958600\n",
      "step 220. loss 0.057160, test accuracy:0.960500\n",
      "step 240. loss 0.126081, test accuracy:0.955800\n",
      "step 260. loss 0.120191, test accuracy:0.965200\n",
      "step 280. loss 0.126913, test accuracy:0.960000\n",
      "step 300. loss 0.200582, test accuracy:0.964700\n"
     ]
    },
    {
     "data": {
      "text/plain": [
       "<tfs.models.lenet.LeNet at 0x1056a3990>"
      ]
     },
     "execution_count": 12,
     "metadata": {},
     "output_type": "execute_result"
    }
   ],
   "source": [
    "net.fit(dataset,batch_size=200,n_epoch=1)"
   ]
  },
  {
   "cell_type": "code",
   "execution_count": 13,
   "metadata": {
    "collapsed": true
   },
   "outputs": [],
   "source": [
    "var_result = net.monitor['var'].results"
   ]
  },
  {
   "cell_type": "code",
   "execution_count": 14,
   "metadata": {
    "collapsed": false,
    "scrolled": false
   },
   "outputs": [],
   "source": [
    "import pandas as pd\n",
    "var = pd.DataFrame(var_result,columns=[n.name for n in net.nodes])"
   ]
  },
  {
   "cell_type": "code",
   "execution_count": 15,
   "metadata": {
    "collapsed": false
   },
   "outputs": [
    {
     "data": {
      "text/html": [
       "<div>\n",
       "<table border=\"1\" class=\"dataframe\">\n",
       "  <thead>\n",
       "    <tr style=\"text-align: right;\">\n",
       "      <th></th>\n",
       "      <th>conv1</th>\n",
       "      <th>pool1</th>\n",
       "      <th>conv2</th>\n",
       "      <th>pool2</th>\n",
       "      <th>ip1</th>\n",
       "      <th>ip2</th>\n",
       "      <th>prob</th>\n",
       "    </tr>\n",
       "  </thead>\n",
       "  <tbody>\n",
       "    <tr>\n",
       "      <th>0</th>\n",
       "      <td>6425.205566</td>\n",
       "      <td>884.172607</td>\n",
       "      <td>870.667053</td>\n",
       "      <td>20.216942</td>\n",
       "      <td>48.373428</td>\n",
       "      <td>24.178543</td>\n",
       "      <td>185.626343</td>\n",
       "    </tr>\n",
       "    <tr>\n",
       "      <th>1</th>\n",
       "      <td>5865.723145</td>\n",
       "      <td>750.650269</td>\n",
       "      <td>741.516968</td>\n",
       "      <td>1.713232</td>\n",
       "      <td>5.031926</td>\n",
       "      <td>2.161596</td>\n",
       "      <td>8.766542</td>\n",
       "    </tr>\n",
       "    <tr>\n",
       "      <th>2</th>\n",
       "      <td>6403.899414</td>\n",
       "      <td>801.773499</td>\n",
       "      <td>791.315186</td>\n",
       "      <td>1.083681</td>\n",
       "      <td>3.336022</td>\n",
       "      <td>1.495037</td>\n",
       "      <td>7.185694</td>\n",
       "    </tr>\n",
       "    <tr>\n",
       "      <th>3</th>\n",
       "      <td>6754.935547</td>\n",
       "      <td>850.664795</td>\n",
       "      <td>836.019714</td>\n",
       "      <td>2.209933</td>\n",
       "      <td>6.613290</td>\n",
       "      <td>2.953002</td>\n",
       "      <td>16.670652</td>\n",
       "    </tr>\n",
       "    <tr>\n",
       "      <th>4</th>\n",
       "      <td>5987.695312</td>\n",
       "      <td>738.954346</td>\n",
       "      <td>720.794250</td>\n",
       "      <td>2.566571</td>\n",
       "      <td>7.603240</td>\n",
       "      <td>3.403622</td>\n",
       "      <td>23.446896</td>\n",
       "    </tr>\n",
       "    <tr>\n",
       "      <th>5</th>\n",
       "      <td>6173.811523</td>\n",
       "      <td>755.805420</td>\n",
       "      <td>740.013123</td>\n",
       "      <td>2.356189</td>\n",
       "      <td>7.057167</td>\n",
       "      <td>3.209060</td>\n",
       "      <td>21.709549</td>\n",
       "    </tr>\n",
       "    <tr>\n",
       "      <th>6</th>\n",
       "      <td>5914.882324</td>\n",
       "      <td>726.857361</td>\n",
       "      <td>703.972412</td>\n",
       "      <td>2.965483</td>\n",
       "      <td>8.793136</td>\n",
       "      <td>3.975030</td>\n",
       "      <td>26.592695</td>\n",
       "    </tr>\n",
       "    <tr>\n",
       "      <th>7</th>\n",
       "      <td>6053.884766</td>\n",
       "      <td>740.251587</td>\n",
       "      <td>724.703308</td>\n",
       "      <td>3.120707</td>\n",
       "      <td>9.192838</td>\n",
       "      <td>4.111133</td>\n",
       "      <td>27.530441</td>\n",
       "    </tr>\n",
       "    <tr>\n",
       "      <th>8</th>\n",
       "      <td>5786.568359</td>\n",
       "      <td>703.444580</td>\n",
       "      <td>689.538330</td>\n",
       "      <td>3.046938</td>\n",
       "      <td>8.754944</td>\n",
       "      <td>4.103434</td>\n",
       "      <td>28.578091</td>\n",
       "    </tr>\n",
       "    <tr>\n",
       "      <th>9</th>\n",
       "      <td>6716.635742</td>\n",
       "      <td>843.419128</td>\n",
       "      <td>820.686157</td>\n",
       "      <td>4.263759</td>\n",
       "      <td>12.111746</td>\n",
       "      <td>5.531012</td>\n",
       "      <td>42.637585</td>\n",
       "    </tr>\n",
       "    <tr>\n",
       "      <th>10</th>\n",
       "      <td>7205.064453</td>\n",
       "      <td>908.854919</td>\n",
       "      <td>883.063416</td>\n",
       "      <td>3.673531</td>\n",
       "      <td>10.430687</td>\n",
       "      <td>4.752347</td>\n",
       "      <td>33.497787</td>\n",
       "    </tr>\n",
       "    <tr>\n",
       "      <th>11</th>\n",
       "      <td>6172.778809</td>\n",
       "      <td>758.010803</td>\n",
       "      <td>735.396057</td>\n",
       "      <td>3.947429</td>\n",
       "      <td>11.317644</td>\n",
       "      <td>5.136041</td>\n",
       "      <td>35.183937</td>\n",
       "    </tr>\n",
       "    <tr>\n",
       "      <th>12</th>\n",
       "      <td>5311.030273</td>\n",
       "      <td>645.434082</td>\n",
       "      <td>631.989990</td>\n",
       "      <td>3.740830</td>\n",
       "      <td>10.686530</td>\n",
       "      <td>5.073347</td>\n",
       "      <td>38.238796</td>\n",
       "    </tr>\n",
       "    <tr>\n",
       "      <th>13</th>\n",
       "      <td>6281.346191</td>\n",
       "      <td>768.353821</td>\n",
       "      <td>746.593018</td>\n",
       "      <td>3.394298</td>\n",
       "      <td>9.734671</td>\n",
       "      <td>4.414492</td>\n",
       "      <td>32.705002</td>\n",
       "    </tr>\n",
       "    <tr>\n",
       "      <th>14</th>\n",
       "      <td>5253.129883</td>\n",
       "      <td>628.367126</td>\n",
       "      <td>613.683228</td>\n",
       "      <td>3.200925</td>\n",
       "      <td>9.167969</td>\n",
       "      <td>4.153865</td>\n",
       "      <td>26.586805</td>\n",
       "    </tr>\n",
       "    <tr>\n",
       "      <th>15</th>\n",
       "      <td>5954.203125</td>\n",
       "      <td>725.644653</td>\n",
       "      <td>709.291138</td>\n",
       "      <td>4.487486</td>\n",
       "      <td>12.564259</td>\n",
       "      <td>5.945205</td>\n",
       "      <td>44.496235</td>\n",
       "    </tr>\n",
       "    <tr>\n",
       "      <th>16</th>\n",
       "      <td>6381.208008</td>\n",
       "      <td>775.198486</td>\n",
       "      <td>758.030029</td>\n",
       "      <td>4.384452</td>\n",
       "      <td>12.125130</td>\n",
       "      <td>5.559099</td>\n",
       "      <td>41.784790</td>\n",
       "    </tr>\n",
       "    <tr>\n",
       "      <th>17</th>\n",
       "      <td>5499.374023</td>\n",
       "      <td>666.879150</td>\n",
       "      <td>646.158325</td>\n",
       "      <td>4.264118</td>\n",
       "      <td>12.001024</td>\n",
       "      <td>5.557910</td>\n",
       "      <td>41.620693</td>\n",
       "    </tr>\n",
       "    <tr>\n",
       "      <th>18</th>\n",
       "      <td>6169.953125</td>\n",
       "      <td>746.008789</td>\n",
       "      <td>724.590149</td>\n",
       "      <td>5.314163</td>\n",
       "      <td>14.625969</td>\n",
       "      <td>6.763304</td>\n",
       "      <td>44.963242</td>\n",
       "    </tr>\n",
       "    <tr>\n",
       "      <th>19</th>\n",
       "      <td>5746.685547</td>\n",
       "      <td>690.038269</td>\n",
       "      <td>666.800659</td>\n",
       "      <td>4.014770</td>\n",
       "      <td>11.436481</td>\n",
       "      <td>5.094869</td>\n",
       "      <td>34.600266</td>\n",
       "    </tr>\n",
       "    <tr>\n",
       "      <th>20</th>\n",
       "      <td>6282.011230</td>\n",
       "      <td>752.440735</td>\n",
       "      <td>736.266724</td>\n",
       "      <td>4.183877</td>\n",
       "      <td>11.616555</td>\n",
       "      <td>5.234083</td>\n",
       "      <td>32.120995</td>\n",
       "    </tr>\n",
       "    <tr>\n",
       "      <th>21</th>\n",
       "      <td>5652.204102</td>\n",
       "      <td>666.544250</td>\n",
       "      <td>649.683533</td>\n",
       "      <td>3.862083</td>\n",
       "      <td>11.120864</td>\n",
       "      <td>5.096722</td>\n",
       "      <td>35.215847</td>\n",
       "    </tr>\n",
       "    <tr>\n",
       "      <th>22</th>\n",
       "      <td>5553.586426</td>\n",
       "      <td>658.584167</td>\n",
       "      <td>637.292847</td>\n",
       "      <td>4.503246</td>\n",
       "      <td>12.849434</td>\n",
       "      <td>5.717131</td>\n",
       "      <td>37.702213</td>\n",
       "    </tr>\n",
       "    <tr>\n",
       "      <th>23</th>\n",
       "      <td>6464.051758</td>\n",
       "      <td>772.312439</td>\n",
       "      <td>753.526306</td>\n",
       "      <td>5.120862</td>\n",
       "      <td>14.173706</td>\n",
       "      <td>6.337496</td>\n",
       "      <td>42.230930</td>\n",
       "    </tr>\n",
       "    <tr>\n",
       "      <th>24</th>\n",
       "      <td>5686.365723</td>\n",
       "      <td>683.817627</td>\n",
       "      <td>667.999695</td>\n",
       "      <td>5.276338</td>\n",
       "      <td>14.576989</td>\n",
       "      <td>6.616545</td>\n",
       "      <td>44.340126</td>\n",
       "    </tr>\n",
       "    <tr>\n",
       "      <th>25</th>\n",
       "      <td>5833.606934</td>\n",
       "      <td>696.553650</td>\n",
       "      <td>675.157227</td>\n",
       "      <td>4.881554</td>\n",
       "      <td>13.819891</td>\n",
       "      <td>6.138867</td>\n",
       "      <td>42.432133</td>\n",
       "    </tr>\n",
       "    <tr>\n",
       "      <th>26</th>\n",
       "      <td>5987.081055</td>\n",
       "      <td>719.069092</td>\n",
       "      <td>694.522827</td>\n",
       "      <td>4.233624</td>\n",
       "      <td>11.885344</td>\n",
       "      <td>5.255111</td>\n",
       "      <td>35.912773</td>\n",
       "    </tr>\n",
       "    <tr>\n",
       "      <th>27</th>\n",
       "      <td>6283.372070</td>\n",
       "      <td>751.435974</td>\n",
       "      <td>728.977966</td>\n",
       "      <td>4.350060</td>\n",
       "      <td>12.403854</td>\n",
       "      <td>5.436891</td>\n",
       "      <td>37.955494</td>\n",
       "    </tr>\n",
       "    <tr>\n",
       "      <th>28</th>\n",
       "      <td>5672.276855</td>\n",
       "      <td>674.792236</td>\n",
       "      <td>656.446472</td>\n",
       "      <td>4.567589</td>\n",
       "      <td>12.658214</td>\n",
       "      <td>5.739618</td>\n",
       "      <td>43.471386</td>\n",
       "    </tr>\n",
       "    <tr>\n",
       "      <th>29</th>\n",
       "      <td>6141.672852</td>\n",
       "      <td>713.459473</td>\n",
       "      <td>694.518250</td>\n",
       "      <td>5.444013</td>\n",
       "      <td>15.413356</td>\n",
       "      <td>6.770820</td>\n",
       "      <td>46.455582</td>\n",
       "    </tr>\n",
       "  </tbody>\n",
       "</table>\n",
       "</div>"
      ],
      "text/plain": [
       "          conv1       pool1       conv2      pool2        ip1        ip2  \\\n",
       "0   6425.205566  884.172607  870.667053  20.216942  48.373428  24.178543   \n",
       "1   5865.723145  750.650269  741.516968   1.713232   5.031926   2.161596   \n",
       "2   6403.899414  801.773499  791.315186   1.083681   3.336022   1.495037   \n",
       "3   6754.935547  850.664795  836.019714   2.209933   6.613290   2.953002   \n",
       "4   5987.695312  738.954346  720.794250   2.566571   7.603240   3.403622   \n",
       "5   6173.811523  755.805420  740.013123   2.356189   7.057167   3.209060   \n",
       "6   5914.882324  726.857361  703.972412   2.965483   8.793136   3.975030   \n",
       "7   6053.884766  740.251587  724.703308   3.120707   9.192838   4.111133   \n",
       "8   5786.568359  703.444580  689.538330   3.046938   8.754944   4.103434   \n",
       "9   6716.635742  843.419128  820.686157   4.263759  12.111746   5.531012   \n",
       "10  7205.064453  908.854919  883.063416   3.673531  10.430687   4.752347   \n",
       "11  6172.778809  758.010803  735.396057   3.947429  11.317644   5.136041   \n",
       "12  5311.030273  645.434082  631.989990   3.740830  10.686530   5.073347   \n",
       "13  6281.346191  768.353821  746.593018   3.394298   9.734671   4.414492   \n",
       "14  5253.129883  628.367126  613.683228   3.200925   9.167969   4.153865   \n",
       "15  5954.203125  725.644653  709.291138   4.487486  12.564259   5.945205   \n",
       "16  6381.208008  775.198486  758.030029   4.384452  12.125130   5.559099   \n",
       "17  5499.374023  666.879150  646.158325   4.264118  12.001024   5.557910   \n",
       "18  6169.953125  746.008789  724.590149   5.314163  14.625969   6.763304   \n",
       "19  5746.685547  690.038269  666.800659   4.014770  11.436481   5.094869   \n",
       "20  6282.011230  752.440735  736.266724   4.183877  11.616555   5.234083   \n",
       "21  5652.204102  666.544250  649.683533   3.862083  11.120864   5.096722   \n",
       "22  5553.586426  658.584167  637.292847   4.503246  12.849434   5.717131   \n",
       "23  6464.051758  772.312439  753.526306   5.120862  14.173706   6.337496   \n",
       "24  5686.365723  683.817627  667.999695   5.276338  14.576989   6.616545   \n",
       "25  5833.606934  696.553650  675.157227   4.881554  13.819891   6.138867   \n",
       "26  5987.081055  719.069092  694.522827   4.233624  11.885344   5.255111   \n",
       "27  6283.372070  751.435974  728.977966   4.350060  12.403854   5.436891   \n",
       "28  5672.276855  674.792236  656.446472   4.567589  12.658214   5.739618   \n",
       "29  6141.672852  713.459473  694.518250   5.444013  15.413356   6.770820   \n",
       "\n",
       "          prob  \n",
       "0   185.626343  \n",
       "1     8.766542  \n",
       "2     7.185694  \n",
       "3    16.670652  \n",
       "4    23.446896  \n",
       "5    21.709549  \n",
       "6    26.592695  \n",
       "7    27.530441  \n",
       "8    28.578091  \n",
       "9    42.637585  \n",
       "10   33.497787  \n",
       "11   35.183937  \n",
       "12   38.238796  \n",
       "13   32.705002  \n",
       "14   26.586805  \n",
       "15   44.496235  \n",
       "16   41.784790  \n",
       "17   41.620693  \n",
       "18   44.963242  \n",
       "19   34.600266  \n",
       "20   32.120995  \n",
       "21   35.215847  \n",
       "22   37.702213  \n",
       "23   42.230930  \n",
       "24   44.340126  \n",
       "25   42.432133  \n",
       "26   35.912773  \n",
       "27   37.955494  \n",
       "28   43.471386  \n",
       "29   46.455582  "
      ]
     },
     "execution_count": 15,
     "metadata": {},
     "output_type": "execute_result"
    }
   ],
   "source": [
    "var"
   ]
  },
  {
   "cell_type": "code",
   "execution_count": null,
   "metadata": {
    "collapsed": true
   },
   "outputs": [],
   "source": []
  }
 ],
 "metadata": {
  "kernelspec": {
   "display_name": "Python 2",
   "language": "python",
   "name": "python2"
  },
  "language_info": {
   "codemirror_mode": {
    "name": "ipython",
    "version": 2
   },
   "file_extension": ".py",
   "mimetype": "text/x-python",
   "name": "python",
   "nbconvert_exporter": "python",
   "pygments_lexer": "ipython2",
   "version": "2.7.12"
  }
 },
 "nbformat": 4,
 "nbformat_minor": 0
}
