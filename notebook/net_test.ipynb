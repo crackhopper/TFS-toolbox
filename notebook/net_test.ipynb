{
 "cells": [
  {
   "cell_type": "code",
   "execution_count": 1,
   "metadata": {
    "collapsed": false,
    "scrolled": false
   },
   "outputs": [],
   "source": [
    "import tensorflow as tf\n",
    "import numpy as np\n",
    "from tfs.network import LeNet"
   ]
  },
  {
   "cell_type": "code",
   "execution_count": 2,
   "metadata": {
    "collapsed": false
   },
   "outputs": [],
   "source": [
    "sess = tf.InteractiveSession()\n",
    "data = np.arange(4*10*10*3).reshape(4,10,10,3)\n",
    "net = LeNet([None,10,10,3])"
   ]
  },
  {
   "cell_type": "code",
   "execution_count": 3,
   "metadata": {
    "collapsed": false,
    "scrolled": false
   },
   "outputs": [
    {
     "name": "stdout",
     "output_type": "stream",
     "text": [
      "(4, 10)\n",
      "[[  -7.47559404  -19.73518944   59.23237228    8.10621357  -92.05592346\n",
      "    -9.75097275   16.20317268 -104.5872345    31.51747704   78.40145111]\n",
      " [ -30.77898788  -58.74237823   78.80791473  -11.5154171  -219.42750549\n",
      "    24.27556229  -29.44283485 -149.12770081   47.69308472  201.24105835]\n",
      " [ -58.63110733  -95.96452332  103.77806091  -30.29148102 -339.40142822\n",
      "    61.96443176  -61.0958519  -198.27064514   75.80718994  329.34091187]\n",
      " [ -85.35343933 -136.80084229  129.64543152  -47.68832779 -465.5161438\n",
      "   100.8684082   -93.37246704 -250.09231567  106.65953064  456.51055908]]\n"
     ]
    }
   ],
   "source": [
    "sess.run(tf.global_variables_initializer())\n",
    "print net._out.eval(feed_dict={net._in:data}).shape\n",
    "print net._out.eval(feed_dict={net._in:data})"
   ]
  },
  {
   "cell_type": "code",
   "execution_count": null,
   "metadata": {
    "collapsed": true
   },
   "outputs": [],
   "source": []
  }
 ],
 "metadata": {
  "kernelspec": {
   "display_name": "Python 2",
   "language": "python",
   "name": "python2"
  },
  "language_info": {
   "codemirror_mode": {
    "name": "ipython",
    "version": 2
   },
   "file_extension": ".py",
   "mimetype": "text/x-python",
   "name": "python",
   "nbconvert_exporter": "python",
   "pygments_lexer": "ipython2",
   "version": "2.7.12"
  }
 },
 "nbformat": 4,
 "nbformat_minor": 0
}
