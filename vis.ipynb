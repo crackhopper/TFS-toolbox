{
 "cells": [
  {
   "cell_type": "markdown",
   "metadata": {},
   "source": [
    "# Defining caffenet"
   ]
  },
  {
   "cell_type": "code",
   "execution_count": null,
   "metadata": {
    "collapsed": false
   },
   "outputs": [],
   "source": [
    "from ext.network import Network\n",
    "import tensorflow as tf\n",
    "\n",
    "class CaffeNet(Network):\n",
    "    def setup(self):\n",
    "        (self.feed('input') # (1,227,227,3)\n",
    "             .conv(11, 11, 96, 4, 4, padding='VALID', name='conv1') # (1, 55, 55, 96)\n",
    "             .max_pool(3, 3, 2, 2, padding='VALID', name='pool1') # (1, 27, 27, 96)\n",
    "             .lrn(2, 2e-05, 0.75, name='norm1') \n",
    "             .conv(5, 5, 256, 1, 1, group=2, name='conv2') #(1, 27, 27, 256)\n",
    "             .max_pool(3, 3, 2, 2, padding='VALID', name='pool2') # (1, 13, 13, 256)\n",
    "             .lrn(2, 2e-05, 0.75, name='norm2')\n",
    "             .conv(3, 3, 384, 1, 1, name='conv3') # (1, 13, 13, 384)\n",
    "             .conv(3, 3, 384, 1, 1, group=2, name='conv4')\n",
    "             .conv(3, 3, 256, 1, 1, group=2, name='conv5') # (1, 13, 13, 256)\n",
    "             .max_pool(3, 3, 2, 2, padding='VALID', name='pool5') # (1, 6, 6, 256)\n",
    "             .fc(4096, name='fc6') \n",
    "             .fc(4096, name='fc7')\n",
    "             .fc(1000, relu=False, name='fc8')\n",
    "             .softmax(name='prob'))\n",
    "\n",
    "tf.reset_default_graph()\n",
    "images = tf.placeholder(tf.float32, [1, 227, 227, 3])\n",
    "labels = tf.placeholder(tf.float32, [1, 1000])\n",
    "net = CaffeNet({'input':images})"
   ]
  },
  {
   "cell_type": "code",
   "execution_count": null,
   "metadata": {
    "collapsed": false
   },
   "outputs": [],
   "source": [
    "net.inv_setup()"
   ]
  },
  {
   "cell_type": "code",
   "execution_count": null,
   "metadata": {
    "collapsed": false
   },
   "outputs": [],
   "source": [
    "net.inv_layers"
   ]
  },
  {
   "cell_type": "code",
   "execution_count": null,
   "metadata": {
    "collapsed": false
   },
   "outputs": [],
   "source": [
    "invout = net.get_inv_output()\n",
    "invout"
   ]
  },
  {
   "cell_type": "markdown",
   "metadata": {},
   "source": [
    "# loading\n",
    "- load pre-trained weights\n",
    "- load input tensor"
   ]
  },
  {
   "cell_type": "code",
   "execution_count": null,
   "metadata": {
    "collapsed": true
   },
   "outputs": [],
   "source": [
    "import tensorflow as tf\n",
    "import numpy as np\n",
    "import pickle\n",
    "\n",
    "f=open('../shared/data_blob.npy','rb')\n",
    "data_blob = pickle.load(f)\n",
    "data_blob = data_blob.transpose((0,2,3,1))\n",
    "\n",
    "sess=tf.InteractiveSession()\n",
    "net.load('../caffe-tensorflow/caffenet.npy', sess)"
   ]
  },
  {
   "cell_type": "markdown",
   "metadata": {},
   "source": [
    "# visualization checking"
   ]
  },
  {
   "cell_type": "code",
   "execution_count": null,
   "metadata": {
    "collapsed": false
   },
   "outputs": [],
   "source": [
    "print net.inv_layers[layer_name]\n",
    "print net.layers[layer_name]"
   ]
  },
  {
   "cell_type": "code",
   "execution_count": null,
   "metadata": {
    "collapsed": false,
    "scrolled": false
   },
   "outputs": [],
   "source": [
    "from ext.util import *\n",
    "%pylab inline\n",
    "layer_name = 'fc8'\n",
    "\n",
    "layer_output = sess.run(net.layers[layer_name],feed_dict={images:data_blob})\n",
    "channelId=290\n",
    "\n",
    "to_vis=np.zeros_like(layer_output)\n",
    "to_vis[0,...,channelId]=layer_output[0,...,channelId]\n",
    "\n",
    "figure(figsize=(10,10))\n",
    "\n",
    "generated = invout.eval(feed_dict={net.inv_layers[layer_name]:to_vis,images:data_blob})\n",
    "gen_img=ensure_uint255(norm01c(generated[0,:],0))\n",
    "imshow(gen_img[:,:,::-1],interpolation='nearest')"
   ]
  },
  {
   "cell_type": "code",
   "execution_count": null,
   "metadata": {
    "collapsed": true
   },
   "outputs": [],
   "source": []
  }
 ],
 "metadata": {
  "kernelspec": {
   "display_name": "Python 2",
   "language": "python",
   "name": "python2"
  },
  "language_info": {
   "codemirror_mode": {
    "name": "ipython",
    "version": 2
   },
   "file_extension": ".py",
   "mimetype": "text/x-python",
   "name": "python",
   "nbconvert_exporter": "python",
   "pygments_lexer": "ipython2",
   "version": "2.7.12"
  }
 },
 "nbformat": 4,
 "nbformat_minor": 0
}
